{
 "cells": [
  {
   "cell_type": "markdown",
   "id": "125d44d8",
   "metadata": {
    "toc": true
   },
   "source": [
    "<h1>Содержание<span class=\"tocSkip\"></span></h1>\n",
    "<div class=\"toc\"><ul class=\"toc-item\"><li><span><a href=\"#Вспомогательные-функции\" data-toc-modified-id=\"Вспомогательные-функции-1\"><span class=\"toc-item-num\">1&nbsp;&nbsp;</span>Вспомогательные функции</a></span></li><li><span><a href=\"#Запуск-обработки\" data-toc-modified-id=\"Запуск-обработки-2\"><span class=\"toc-item-num\">2&nbsp;&nbsp;</span>Запуск обработки</a></span></li><li><span><a href=\"#Сгенерированная--таблица\" data-toc-modified-id=\"Сгенерированная--таблица-3\"><span class=\"toc-item-num\">3&nbsp;&nbsp;</span>Сгенерированная  таблица</a></span></li></ul></div>"
   ]
  },
  {
   "cell_type": "code",
   "execution_count": 1,
   "id": "996cde79",
   "metadata": {
    "ExecuteTime": {
     "end_time": "2023-07-17T13:08:23.439714Z",
     "start_time": "2023-07-17T13:07:59.916954Z"
    }
   },
   "outputs": [],
   "source": [
    "# импорт библиотек\n",
    "import sys\n",
    "import os\n",
    "import cv2\n",
    "import re\n",
    "import string\n",
    "import copy\n",
    "import datetime\n",
    "import pandas as pd\n",
    "import numpy as np\n",
    "import Levenshtein as lev\n",
    "from PIL import Image as PILImage\n",
    "import easyocr\n",
    "os.environ[\"OMP_NUM_THREADS\"] = '1'\n",
    "from sklearn.cluster import KMeans\n",
    "from sklearn.metrics import silhouette_score\n",
    "from IPython.display import display_html"
   ]
  },
  {
   "cell_type": "markdown",
   "id": "d2956e91",
   "metadata": {},
   "source": [
    "### Вспомогательные функции"
   ]
  },
  {
   "cell_type": "code",
   "execution_count": 2,
   "id": "5e70f304",
   "metadata": {
    "ExecuteTime": {
     "end_time": "2023-07-17T13:08:23.454729Z",
     "start_time": "2023-07-17T13:08:23.443723Z"
    }
   },
   "outputs": [],
   "source": [
    "def get_limit_value(stroke):\n",
    "    # удаление пробелов\n",
    "    stroke_joined = \"\".join(stroke['value'].split())\n",
    "    # поиск даты по маске\n",
    "    date = None\n",
    "    mask = r\"(.*?)((?:\\d{2})(?:\\.|-)(?:\\d{2})(?:\\.|-)(?:\\d{2,4}))(.*)\"\n",
    "    try:\n",
    "        parsed = re.match(mask, stroke_joined)        \n",
    "        date = parsed.group(2)\n",
    "        return stroke['y_lu']\n",
    "    except:\n",
    "        pass\n",
    "    return None       "
   ]
  },
  {
   "cell_type": "code",
   "execution_count": 3,
   "id": "615d9842",
   "metadata": {
    "ExecuteTime": {
     "end_time": "2023-07-17T13:08:23.582771Z",
     "start_time": "2023-07-17T13:08:23.461740Z"
    }
   },
   "outputs": [],
   "source": [
    "def rename_clasters(claster, name_dict):\n",
    "    return name_dict[claster]"
   ]
  },
  {
   "cell_type": "code",
   "execution_count": 4,
   "id": "4f1917ca",
   "metadata": {
    "ExecuteTime": {
     "end_time": "2023-07-17T13:08:23.678232Z",
     "start_time": "2023-07-17T13:08:23.586778Z"
    }
   },
   "outputs": [],
   "source": [
    "    # функция оценки адекватности распознавания\n",
    "    def check_adequacy(stroke, col_type=0):\n",
    "        # оценка количества\n",
    "        if col_type == 'quantity':\n",
    "            try:\n",
    "                # проверка нахождения количества сданной крови в пределах от 50 до 700 мл\n",
    "                if 100 <= int(stroke) <= 700:\n",
    "                    # дополнительная коррекция нормы 450 мл\n",
    "                    try:\n",
    "                        re.match(r'(4(?:6|9)(?:0|9|8))', stroke).group(0)\n",
    "                        stroke = 450\n",
    "                    except:\n",
    "                        pass\n",
    "                    return stroke\n",
    "                else:\n",
    "                    return \"UNKNOWN\"\n",
    "            except:\n",
    "                return \"UNKNOWN\"\n",
    "        # оценка даты\n",
    "        elif col_type == 'date':\n",
    "            # дата приказа о форме справки \n",
    "            init_date = datetime.datetime.strptime(r'31.03.2005', '%d.%m.%Y')\n",
    "            # текущее время\n",
    "            current_date = datetime.datetime.now()\n",
    "            date_stroke = ''\n",
    "            # перебор возможных вариантов записи\n",
    "            for pattern in [r'%d.%m.%Y', r'%d.%m.%y', r'%d-%m-%Y', r'%d-%m-%y']:\n",
    "                try:\n",
    "                    date_stroke = datetime.datetime.strptime(stroke, pattern)\n",
    "                    break\n",
    "                except:\n",
    "                    pass\n",
    "            # проверка нахождения дат в пределах от даты приказа до текущей\n",
    "            if date_stroke != '' and (init_date <= date_stroke <= current_date):\n",
    "                # вывод унифицированного варианта записи напр. 31.12.2020\n",
    "                return date_stroke.strftime('%d.%m.%Y')\n",
    "            else:\n",
    "                return \"UNKNOWN\"\n",
    "        # коррекция записи для типа донорства \n",
    "        elif col_type == 'type':\n",
    "            try:                \n",
    "                # перевод символов в нижний регистр\n",
    "                stroke_improved = stroke.lower()\n",
    "                stroke_improved = re.sub('кр.{1}д', 'кр/д', stroke_improved)\n",
    "                # замена цифр подходящими символами\n",
    "                stroke_improved = re.sub('3|8|9', 'в', stroke_improved)\n",
    "                stroke_improved = re.sub('5|6', 'б', stroke_improved)\n",
    "                # восстановление неполной строки\n",
    "                if stroke in ['(бв)', 'кр/д']:\n",
    "                    return r'кр/д (бв)'\n",
    "                # очистка лишних знаков\n",
    "                finded = re.match(r'.*((?:кр|пл|ц)(?:/д)|(?:т/ф))(.*)((?:\\(бв\\))|(?:\\(пл\\)))', stroke_improved)\n",
    "                # проверка частей записи по отдельности\n",
    "                blood_part = finded.group(1)\n",
    "                reward_type = finded.group(3)\n",
    "                if blood_part not in ['кр/д', 'пл/д', 'ц/д', 'т/ф']:\n",
    "                    # коррекция значений с помощью расстояния  Левенштайна\n",
    "                    if len(blood_part) == 3:\n",
    "                        if lev.distance(blood_part, 'кр/д') < 2:\n",
    "                            blood_part = 'кр/д'\n",
    "                        if lev.distance(blood_part, 'пл/д') < 2:\n",
    "                            blood_part = 'пл/д'\n",
    "                    if len(blood_part) == 2:\n",
    "                        if lev.distance(blood_part, 'т/ф') < 2:\n",
    "                            blood_part = 'т/ф'\n",
    "                        if lev.distance(bood_part, 'ц/д') < 2:\n",
    "                            blood_part = 'ц/д'\n",
    "                return finded.group(1) + ' ' + finded.group(3)\n",
    "            except:\n",
    "                return \"UNKNOWN\"\n",
    "        # вывод без проверки    \n",
    "        else:\n",
    "            return stroke"
   ]
  },
  {
   "cell_type": "markdown",
   "id": "2ee6b7fb",
   "metadata": {},
   "source": [
    "### Запуск обработки"
   ]
  },
  {
   "cell_type": "code",
   "execution_count": 5,
   "id": "634ec35b",
   "metadata": {
    "ExecuteTime": {
     "end_time": "2023-07-17T13:09:19.353498Z",
     "start_time": "2023-07-17T13:08:23.681237Z"
    }
   },
   "outputs": [
    {
     "name": "stderr",
     "output_type": "stream",
     "text": [
      "Neither CUDA nor MPS are available - defaulting to CPU. Note: This module is much faster with a GPU.\n"
     ]
    }
   ],
   "source": [
    "puth = r'405/213950.jpg'\n",
    "img = cv2.imread(puth)\n",
    "\n",
    "# обрезка верхней части изображения\n",
    "img = img[int(img.shape[0]/2):img.shape[0], :]\n",
    "# распознавание без разметки таблицы\n",
    "reader = easyocr.Reader(lang_list=['ru'])\n",
    "result = reader.readtext(image=img)"
   ]
  },
  {
   "cell_type": "code",
   "execution_count": 11,
   "id": "ae3ada2b",
   "metadata": {
    "ExecuteTime": {
     "end_time": "2023-07-17T13:10:25.562163Z",
     "start_time": "2023-07-17T13:10:25.532160Z"
    }
   },
   "outputs": [],
   "source": [
    "data_dict = {'x_lu':[],'y_lu':[],'x_ru':[],'y_ru':[],'x_rb':[],'y_rb':[],'x_lb':[],'y_lb':[],'value':[],'prob':[]}\n",
    "for item in result:\n",
    "    # отсев сомнительных данных (с дробными координатами)\n",
    "    if type(item[0][0][0]) == np.int32:\n",
    "        # координаты бокса с текстом (не ячейки!)\n",
    "        data_dict['x_lu'].append(item[0][0][0])\n",
    "        data_dict['y_lu'].append(item[0][0][1])\n",
    "        data_dict['x_ru'].append(item[0][1][0])\n",
    "        data_dict['y_ru'].append(item[0][1][1])\n",
    "        data_dict['x_rb'].append(item[0][2][0])\n",
    "        data_dict['y_rb'].append(item[0][2][1])\n",
    "        data_dict['x_lb'].append(item[0][3][0])\n",
    "        data_dict['y_lb'].append(item[0][3][1])\n",
    "        # значение и верятность распознавания\n",
    "        data_dict['value'].append(item[1])\n",
    "        data_dict['prob'].append(item[2])\n",
    "df = pd.DataFrame(data_dict)\n",
    "# ширина и высота бокса с текстом\n",
    "df['width'] = df['x_ru'] - df['x_lu']\n",
    "df['heigth'] = df['y_lb'] - df['y_lu']\n",
    "# центр бокса с текстом\n",
    "df['center_horizontal'] = (df['x_ru'] + df['x_lu'])/2\n",
    "df['center_vertical'] = (df['y_lb'] + df['y_lu'])/2"
   ]
  },
  {
   "cell_type": "code",
   "execution_count": 12,
   "id": "3896fd73",
   "metadata": {
    "ExecuteTime": {
     "end_time": "2023-07-17T13:10:28.463916Z",
     "start_time": "2023-07-17T13:10:28.427911Z"
    }
   },
   "outputs": [],
   "source": [
    "# поиск верхней и нижней строки с датой\n",
    "h_min = max(df['y_lu'])\n",
    "h_max = min(df['y_lu'])\n",
    "for i in range(len(df)):\n",
    "    h_curr = get_limit_value(df.iloc[i,:])\n",
    "    if h_curr != None:\n",
    "        if h_curr < h_min:\n",
    "            h_min = h_curr\n",
    "        elif h_curr > h_max:\n",
    "            h_max = h_curr\n",
    "# отсечение по высоте с учетом поправки\n",
    "df = df[((df['y_lu'] >= h_min - df['heigth'].min()) & (df['y_lu'] <= h_max + df['heigth'].min()))]"
   ]
  },
  {
   "cell_type": "code",
   "execution_count": 13,
   "id": "7cb097ae",
   "metadata": {
    "ExecuteTime": {
     "end_time": "2023-07-17T13:10:31.202685Z",
     "start_time": "2023-07-17T13:10:30.987432Z"
    }
   },
   "outputs": [],
   "source": [
    "X = df['center_horizontal'].values.reshape(-1, 1)\n",
    "silhouette_max = 0\n",
    "n_clusters = 9\n",
    "# подбор числа кластеров\n",
    "for n in [3,4,6,8,9]:\n",
    "    clusterer = KMeans(n_clusters=n, n_init=\"auto\", random_state=42)\n",
    "    cluster_labels = clusterer.fit_predict(X)\n",
    "    # оценка качества кластеризации\n",
    "    silhouette_avg = silhouette_score(X, cluster_labels)    \n",
    "    # оптимальное число кластеров\n",
    "    if silhouette_avg > silhouette_max:\n",
    "        silhouette_max = silhouette_avg\n",
    "        n_clusters = n\n",
    "# разбивка данных кластеры (столбцы)\n",
    "clusterer = KMeans(n_clusters=n_clusters, n_init=\"auto\", random_state=42)\n",
    "cluster_labels = clusterer.fit_predict(X)\n",
    "df['cluster_labels'] = cluster_labels"
   ]
  },
  {
   "cell_type": "code",
   "execution_count": 14,
   "id": "4a04fc00",
   "metadata": {
    "ExecuteTime": {
     "end_time": "2023-07-17T13:10:33.734327Z",
     "start_time": "2023-07-17T13:10:33.722324Z"
    }
   },
   "outputs": [],
   "source": [
    "# получение образцов кластеров по порядку\n",
    "claster_samples = []\n",
    "for j in range(n_clusters):\n",
    "    for i in df.index:\n",
    "        if df.loc[i, 'cluster_labels'] == j:\n",
    "            claster_samples.append(df.loc[i, 'center_horizontal'])\n",
    "            break\n",
    "\n",
    "claster_idx = list(np.argsort(claster_samples))\n",
    "clasters_dict = {claster_name:idx for idx, claster_name  in enumerate(claster_idx)}\n",
    "df['claster_sorted'] = df['cluster_labels'].apply(lambda x: rename_clasters(x, clasters_dict))"
   ]
  },
  {
   "cell_type": "code",
   "execution_count": 15,
   "id": "cf4fb1d7",
   "metadata": {
    "ExecuteTime": {
     "end_time": "2023-07-17T13:10:35.698326Z",
     "start_time": "2023-07-17T13:10:35.675331Z"
    }
   },
   "outputs": [],
   "source": [
    "df_final = pd.DataFrame()\n",
    "for i in range(n_clusters):\n",
    "    df_claster = df[df['claster_sorted'] == i].sort_values(by=['center_vertical'])\n",
    "    df_final[i] = df_claster['value'].reset_index(drop=True)"
   ]
  },
  {
   "cell_type": "code",
   "execution_count": 16,
   "id": "0e2b023d",
   "metadata": {
    "ExecuteTime": {
     "end_time": "2023-07-17T13:10:37.425362Z",
     "start_time": "2023-07-17T13:10:37.402366Z"
    }
   },
   "outputs": [],
   "source": [
    "for i in range(df_final.shape[1]):\n",
    "    if i%3 == 0:\n",
    "        df_final[i] = df_final[i].apply(lambda x: \"\".join(x.split()))\n",
    "        df_final[i] = df_final[i].apply(lambda x: check_adequacy(x, col_type='date'))\n",
    "    if i%3 == 1:\n",
    "        df_final[i] = df_final[i].apply(lambda x: check_adequacy(x, col_type='type'))\n",
    "    if i%3 == 2:\n",
    "        df_final[i] = df_final[i].apply(lambda x: \"\".join(x.split()))\n",
    "        df_final[i] = df_final[i].apply(lambda x: check_adequacy(x, col_type='quantity'))"
   ]
  },
  {
   "cell_type": "markdown",
   "id": "bd010fb5",
   "metadata": {},
   "source": [
    "### Сгенерированная  таблица"
   ]
  },
  {
   "cell_type": "code",
   "execution_count": 17,
   "id": "4980aa01",
   "metadata": {
    "ExecuteTime": {
     "end_time": "2023-07-17T13:10:38.865868Z",
     "start_time": "2023-07-17T13:10:38.842880Z"
    }
   },
   "outputs": [
    {
     "data": {
      "text/html": [
       "<div>\n",
       "<style scoped>\n",
       "    .dataframe tbody tr th:only-of-type {\n",
       "        vertical-align: middle;\n",
       "    }\n",
       "\n",
       "    .dataframe tbody tr th {\n",
       "        vertical-align: top;\n",
       "    }\n",
       "\n",
       "    .dataframe thead th {\n",
       "        text-align: right;\n",
       "    }\n",
       "</style>\n",
       "<table border=\"1\" class=\"dataframe\">\n",
       "  <thead>\n",
       "    <tr style=\"text-align: right;\">\n",
       "      <th></th>\n",
       "      <th>0</th>\n",
       "      <th>1</th>\n",
       "      <th>2</th>\n",
       "      <th>3</th>\n",
       "      <th>4</th>\n",
       "      <th>5</th>\n",
       "    </tr>\n",
       "  </thead>\n",
       "  <tbody>\n",
       "    <tr>\n",
       "      <th>0</th>\n",
       "      <td>14.04.2014</td>\n",
       "      <td>кр/д (бв)</td>\n",
       "      <td>450</td>\n",
       "      <td>21.04.2020</td>\n",
       "      <td>кр/д (бв)</td>\n",
       "      <td>450</td>\n",
       "    </tr>\n",
       "    <tr>\n",
       "      <th>1</th>\n",
       "      <td>30.05.2018</td>\n",
       "      <td>кр/д (бв)</td>\n",
       "      <td>450</td>\n",
       "      <td>27.07.2020</td>\n",
       "      <td>кр/д (бв)</td>\n",
       "      <td>350</td>\n",
       "    </tr>\n",
       "    <tr>\n",
       "      <th>2</th>\n",
       "      <td>30.07.2018</td>\n",
       "      <td>кр/д (бв)</td>\n",
       "      <td>450</td>\n",
       "      <td>19.11.2020</td>\n",
       "      <td>кр/д (бв)</td>\n",
       "      <td>450</td>\n",
       "    </tr>\n",
       "    <tr>\n",
       "      <th>3</th>\n",
       "      <td>05.10.2018</td>\n",
       "      <td>кр/д (бв)</td>\n",
       "      <td>450</td>\n",
       "      <td>22.01.2021</td>\n",
       "      <td>кр/д (бв)</td>\n",
       "      <td>450</td>\n",
       "    </tr>\n",
       "    <tr>\n",
       "      <th>4</th>\n",
       "      <td>05.12.2018</td>\n",
       "      <td>кр/д (бв)</td>\n",
       "      <td>450</td>\n",
       "      <td>15.09.2021</td>\n",
       "      <td>кр/д (бв)</td>\n",
       "      <td>450</td>\n",
       "    </tr>\n",
       "    <tr>\n",
       "      <th>5</th>\n",
       "      <td>06.02.2019</td>\n",
       "      <td>кр/д (бв)</td>\n",
       "      <td>450</td>\n",
       "      <td>18.11.2021</td>\n",
       "      <td>кр/д (бв)</td>\n",
       "      <td>450</td>\n",
       "    </tr>\n",
       "    <tr>\n",
       "      <th>6</th>\n",
       "      <td>11.04.2019</td>\n",
       "      <td>кр/д (бв)</td>\n",
       "      <td>450</td>\n",
       "      <td>02.02.2022</td>\n",
       "      <td>кр/д (бв)</td>\n",
       "      <td>450</td>\n",
       "    </tr>\n",
       "    <tr>\n",
       "      <th>7</th>\n",
       "      <td>05.07.2019</td>\n",
       "      <td>кр/д (бв)</td>\n",
       "      <td>450</td>\n",
       "      <td>04.04.2022</td>\n",
       "      <td>кр/д (бв)</td>\n",
       "      <td>450</td>\n",
       "    </tr>\n",
       "    <tr>\n",
       "      <th>8</th>\n",
       "      <td>10.09.2019</td>\n",
       "      <td>кр/д (бв)</td>\n",
       "      <td>450</td>\n",
       "      <td>21.07.2022</td>\n",
       "      <td>кр/д (бв)</td>\n",
       "      <td>450</td>\n",
       "    </tr>\n",
       "    <tr>\n",
       "      <th>9</th>\n",
       "      <td>22.11.2019</td>\n",
       "      <td>кр/д (бв)</td>\n",
       "      <td>450</td>\n",
       "      <td>04.10.2022</td>\n",
       "      <td>кр/д (бв)</td>\n",
       "      <td>450</td>\n",
       "    </tr>\n",
       "    <tr>\n",
       "      <th>10</th>\n",
       "      <td>24.01.2020</td>\n",
       "      <td>кр/д (бв)</td>\n",
       "      <td>450</td>\n",
       "      <td>22.03.2023</td>\n",
       "      <td>кр/д (бв)</td>\n",
       "      <td>450</td>\n",
       "    </tr>\n",
       "  </tbody>\n",
       "</table>\n",
       "</div>"
      ],
      "text/plain": [
       "             0          1    2           3          4    5\n",
       "0   14.04.2014  кр/д (бв)  450  21.04.2020  кр/д (бв)  450\n",
       "1   30.05.2018  кр/д (бв)  450  27.07.2020  кр/д (бв)  350\n",
       "2   30.07.2018  кр/д (бв)  450  19.11.2020  кр/д (бв)  450\n",
       "3   05.10.2018  кр/д (бв)  450  22.01.2021  кр/д (бв)  450\n",
       "4   05.12.2018  кр/д (бв)  450  15.09.2021  кр/д (бв)  450\n",
       "5   06.02.2019  кр/д (бв)  450  18.11.2021  кр/д (бв)  450\n",
       "6   11.04.2019  кр/д (бв)  450  02.02.2022  кр/д (бв)  450\n",
       "7   05.07.2019  кр/д (бв)  450  04.04.2022  кр/д (бв)  450\n",
       "8   10.09.2019  кр/д (бв)  450  21.07.2022  кр/д (бв)  450\n",
       "9   22.11.2019  кр/д (бв)  450  04.10.2022  кр/д (бв)  450\n",
       "10  24.01.2020  кр/д (бв)  450  22.03.2023  кр/д (бв)  450"
      ]
     },
     "execution_count": 17,
     "metadata": {},
     "output_type": "execute_result"
    }
   ],
   "source": [
    "df_final"
   ]
  },
  {
   "cell_type": "code",
   "execution_count": null,
   "id": "9716b65c",
   "metadata": {},
   "outputs": [],
   "source": []
  },
  {
   "cell_type": "code",
   "execution_count": null,
   "id": "0838f3de",
   "metadata": {},
   "outputs": [],
   "source": []
  }
 ],
 "metadata": {
  "kernelspec": {
   "display_name": "Python 3 (ipykernel)",
   "language": "python",
   "name": "python3"
  },
  "language_info": {
   "codemirror_mode": {
    "name": "ipython",
    "version": 3
   },
   "file_extension": ".py",
   "mimetype": "text/x-python",
   "name": "python",
   "nbconvert_exporter": "python",
   "pygments_lexer": "ipython3",
   "version": "3.10.9"
  },
  "toc": {
   "base_numbering": 1,
   "nav_menu": {},
   "number_sections": true,
   "sideBar": true,
   "skip_h1_title": true,
   "title_cell": "Содержание",
   "title_sidebar": "Содержание",
   "toc_cell": true,
   "toc_position": {},
   "toc_section_display": true,
   "toc_window_display": false
  },
  "varInspector": {
   "cols": {
    "lenName": 16,
    "lenType": 16,
    "lenVar": 40
   },
   "kernels_config": {
    "python": {
     "delete_cmd_postfix": "",
     "delete_cmd_prefix": "del ",
     "library": "var_list.py",
     "varRefreshCmd": "print(var_dic_list())"
    },
    "r": {
     "delete_cmd_postfix": ") ",
     "delete_cmd_prefix": "rm(",
     "library": "var_list.r",
     "varRefreshCmd": "cat(var_dic_list()) "
    }
   },
   "types_to_exclude": [
    "module",
    "function",
    "builtin_function_or_method",
    "instance",
    "_Feature"
   ],
   "window_display": false
  }
 },
 "nbformat": 4,
 "nbformat_minor": 5
}
